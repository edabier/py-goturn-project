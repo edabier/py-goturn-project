{
  "cells": [
    {
      "cell_type": "code",
      "source": [
        "from google.colab import drive\n",
        "drive.mount('/content/drive')"
      ],
      "metadata": {
        "colab": {
          "base_uri": "https://localhost:8080/"
        },
        "id": "PcpK_VaMfL6I",
        "outputId": "73434d9c-5a4a-4144-c17e-913a17b326d3"
      },
      "execution_count": 3,
      "outputs": [
        {
          "output_type": "stream",
          "name": "stdout",
          "text": [
            "Mounted at /content/drive\n"
          ]
        }
      ]
    },
    {
      "cell_type": "code",
      "execution_count": 4,
      "metadata": {
        "colab": {
          "base_uri": "https://localhost:8080/"
        },
        "id": "RYqCcn29e7G0",
        "outputId": "5b0dbdd4-9b76-4a42-88ab-80d6e0a38b81"
      },
      "outputs": [
        {
          "output_type": "stream",
          "name": "stdout",
          "text": [
            "/content/drive/MyDrive/pygoturn/src\n"
          ]
        }
      ],
      "source": [
        "import os\n",
        "os.chdir('./drive/MyDrive/pygoturn/src')\n",
        "print(os.getcwd())"
      ]
    },
    {
      "cell_type": "markdown",
      "metadata": {
        "id": "7w1gvdAle7G3"
      },
      "source": [
        "# Fine-Tuning"
      ]
    },
    {
      "cell_type": "markdown",
      "metadata": {
        "id": "kJjWH1Ihe7G3"
      },
      "source": [
        "## Dataset"
      ]
    },
    {
      "cell_type": "code",
      "execution_count": 5,
      "metadata": {
        "id": "V84IT-wwe7G4",
        "colab": {
          "base_uri": "https://localhost:8080/"
        },
        "outputId": "13a991c4-fe3f-4231-bd8f-82f62f9350f8"
      },
      "outputs": [
        {
          "output_type": "stream",
          "name": "stdout",
          "text": [
            "Total dataset size: 1628\n"
          ]
        }
      ],
      "source": [
        "import torch\n",
        "from torch.utils.data import Dataset, ConcatDataset\n",
        "import os\n",
        "import numpy as np\n",
        "import cv2\n",
        "from torchvision import transforms\n",
        "from PIL import Image\n",
        "import random\n",
        "\n",
        "class GOTURN_Dataset(Dataset):\n",
        "    def __init__(self, root_dir, transform=None):\n",
        "        self.root_dir = root_dir\n",
        "        self.transform = transform\n",
        "\n",
        "        # Get all image files inside the root folder\n",
        "        self.frame_files = sorted([f for f in os.listdir(root_dir) if f.endswith(\".bmp\")])\n",
        "\n",
        "        # Load bounding boxes\n",
        "        bbox_path = os.path.join(os.path.dirname(root_dir), \"groundtruth_rect.txt\")\n",
        "        if os.path.exists(bbox_path):\n",
        "            self.bboxes = np.loadtxt(bbox_path, delimiter=\",\")\n",
        "        else:\n",
        "            raise FileNotFoundError(f\"Bounding box file not found at {bbox_path}\")\n",
        "\n",
        "        # If bbox file contains frame indices, remove first column\n",
        "        if self.bboxes.shape[1] == 5:\n",
        "            self.bboxes = self.bboxes[:, 1:]\n",
        "\n",
        "        # Ensure we have enough frames\n",
        "        if len(self.frame_files) < 2 or len(self.bboxes) < 2:\n",
        "            raise ValueError(\"Not enough frames or bounding boxes in the dataset\")\n",
        "\n",
        "        # Store image pairs and corresponding bounding boxes\n",
        "        self.data = self._load_data()\n",
        "\n",
        "    def _load_data(self):\n",
        "        \"\"\"\n",
        "        Loads image pairs and bounding boxes for each frame sequence.\n",
        "        \"\"\"\n",
        "        data = []\n",
        "        for i in range(len(self.frame_files) - 1):\n",
        "            prev_frame_path = os.path.join(self.root_dir, self.frame_files[i])\n",
        "            curr_frame_path = os.path.join(self.root_dir, self.frame_files[i + 1])\n",
        "            bbox = self.bboxes[i + 1]  # Assign bbox of next frame\n",
        "\n",
        "            data.append((prev_frame_path, curr_frame_path, bbox))\n",
        "\n",
        "        return data\n",
        "\n",
        "    def __len__(self):\n",
        "        return len(self.data)\n",
        "\n",
        "    def __getitem__(self, idx):\n",
        "        prev_frame_path, curr_frame_path, bbox = self.data[idx]\n",
        "\n",
        "        # Read images using OpenCV\n",
        "        prev_frame = cv2.imread(prev_frame_path)\n",
        "        curr_frame = cv2.imread(curr_frame_path)\n",
        "\n",
        "        # Ensure the images are read correctly\n",
        "        if prev_frame is None or curr_frame is None:\n",
        "            raise ValueError(f\"Error loading image: {prev_frame_path}, {curr_frame_path}\")\n",
        "\n",
        "        # Convert from BGR (OpenCV default) to RGB\n",
        "        prev_frame = cv2.cvtColor(prev_frame, cv2.COLOR_BGR2RGB)\n",
        "        curr_frame = cv2.cvtColor(curr_frame, cv2.COLOR_BGR2RGB)\n",
        "\n",
        "        # Convert numpy array to PIL Image\n",
        "        prev_frame = Image.fromarray(prev_frame)\n",
        "        curr_frame = Image.fromarray(curr_frame)\n",
        "\n",
        "        # Apply the transformation if any\n",
        "        if self.transform:\n",
        "            # Ensure same random transformation is applied to both frames\n",
        "            seed = random.randint(0, 99999)  # Generate a random seed\n",
        "            torch.manual_seed(seed)  # Set the seed for PyTorch transforms\n",
        "            prev_frame = self.transform(prev_frame)\n",
        "            torch.manual_seed(seed)  # Reset the seed to ensure same transform\n",
        "            curr_frame = self.transform(curr_frame)\n",
        "\n",
        "        return prev_frame, curr_frame, torch.tensor(bbox, dtype=torch.float32)\n",
        "\n",
        "\n",
        "# Define multiple transformation variations\n",
        "base_transform = transforms.Compose([\n",
        "    transforms.Resize((227, 360)),\n",
        "    transforms.ToTensor(),\n",
        "])\n",
        "\n",
        "augmentations = [\n",
        "    transforms.Compose([\n",
        "        transforms.Resize((227, 360)),\n",
        "        transforms.RandomHorizontalFlip(p=0.5),\n",
        "        transforms.ToTensor(),\n",
        "    ]),\n",
        "    transforms.Compose([\n",
        "        transforms.Resize((227, 360)),\n",
        "        transforms.ColorJitter(brightness=0.2, contrast=0.2, saturation=0.2, hue=0.1),\n",
        "        transforms.ToTensor(),\n",
        "    ]),\n",
        "    transforms.Compose([\n",
        "        transforms.Resize((227, 360)),\n",
        "        transforms.RandomResizedCrop((227, 360), scale=(0.8, 1.0)),\n",
        "        transforms.ToTensor(),\n",
        "    ]),\n",
        "]\n",
        "\n",
        "# Create datasets with different transformations\n",
        "datasets = []\n",
        "sequences = [\"swan\", \"bag\", \"bear\", \"rhino\", \"book\"]\n",
        "\n",
        "for seq in sequences:\n",
        "    datasets.append(GOTURN_Dataset(f\"../data/OTB/{seq}/img\", transform=base_transform))  # Base dataset\n",
        "    for aug in augmentations:\n",
        "        datasets.append(GOTURN_Dataset(f\"../data/OTB/{seq}/img\", transform=aug))  # Augmented datasets\n",
        "\n",
        "# Concatenate the datasets\n",
        "combined_dataset = ConcatDataset(datasets)\n",
        "\n",
        "print(f\"Total dataset size: {len(combined_dataset)}\")\n"
      ]
    },
    {
      "cell_type": "markdown",
      "metadata": {
        "id": "fav992gve7G4"
      },
      "source": [
        "## Fine Tuning\n"
      ]
    },
    {
      "cell_type": "code",
      "source": [
        "!pip install got10k"
      ],
      "metadata": {
        "colab": {
          "base_uri": "https://localhost:8080/"
        },
        "id": "31cvD40xhZ--",
        "outputId": "a02f9047-fc51-4b6e-cdc0-c4379c1787ba"
      },
      "execution_count": 7,
      "outputs": [
        {
          "output_type": "stream",
          "name": "stdout",
          "text": [
            "Collecting got10k\n",
            "  Downloading got10k-0.1.3.tar.gz (31 kB)\n",
            "  Preparing metadata (setup.py) ... \u001b[?25l\u001b[?25hdone\n",
            "Requirement already satisfied: numpy in /usr/local/lib/python3.11/dist-packages (from got10k) (2.0.2)\n",
            "Requirement already satisfied: matplotlib in /usr/local/lib/python3.11/dist-packages (from got10k) (3.10.0)\n",
            "Requirement already satisfied: Pillow in /usr/local/lib/python3.11/dist-packages (from got10k) (11.1.0)\n",
            "Requirement already satisfied: Shapely in /usr/local/lib/python3.11/dist-packages (from got10k) (2.0.7)\n",
            "Collecting fire (from got10k)\n",
            "  Downloading fire-0.7.0.tar.gz (87 kB)\n",
            "\u001b[2K     \u001b[90m━━━━━━━━━━━━━━━━━━━━━━━━━━━━━━━━━━━━━━━━\u001b[0m \u001b[32m87.2/87.2 kB\u001b[0m \u001b[31m7.9 MB/s\u001b[0m eta \u001b[36m0:00:00\u001b[0m\n",
            "\u001b[?25h  Preparing metadata (setup.py) ... \u001b[?25l\u001b[?25hdone\n",
            "Collecting wget (from got10k)\n",
            "  Downloading wget-3.2.zip (10 kB)\n",
            "  Preparing metadata (setup.py) ... \u001b[?25l\u001b[?25hdone\n",
            "Requirement already satisfied: termcolor in /usr/local/lib/python3.11/dist-packages (from fire->got10k) (2.5.0)\n",
            "Requirement already satisfied: contourpy>=1.0.1 in /usr/local/lib/python3.11/dist-packages (from matplotlib->got10k) (1.3.1)\n",
            "Requirement already satisfied: cycler>=0.10 in /usr/local/lib/python3.11/dist-packages (from matplotlib->got10k) (0.12.1)\n",
            "Requirement already satisfied: fonttools>=4.22.0 in /usr/local/lib/python3.11/dist-packages (from matplotlib->got10k) (4.56.0)\n",
            "Requirement already satisfied: kiwisolver>=1.3.1 in /usr/local/lib/python3.11/dist-packages (from matplotlib->got10k) (1.4.8)\n",
            "Requirement already satisfied: packaging>=20.0 in /usr/local/lib/python3.11/dist-packages (from matplotlib->got10k) (24.2)\n",
            "Requirement already satisfied: pyparsing>=2.3.1 in /usr/local/lib/python3.11/dist-packages (from matplotlib->got10k) (3.2.1)\n",
            "Requirement already satisfied: python-dateutil>=2.7 in /usr/local/lib/python3.11/dist-packages (from matplotlib->got10k) (2.8.2)\n",
            "Requirement already satisfied: six>=1.5 in /usr/local/lib/python3.11/dist-packages (from python-dateutil>=2.7->matplotlib->got10k) (1.17.0)\n",
            "Building wheels for collected packages: got10k, fire, wget\n",
            "  Building wheel for got10k (setup.py) ... \u001b[?25l\u001b[?25hdone\n",
            "  Created wheel for got10k: filename=got10k-0.1.3-py3-none-any.whl size=43858 sha256=a782463666eaf511f72c465507ac41119cbb4fd62b1ed5d3e8d9cfeec7cdb9ce\n",
            "  Stored in directory: /root/.cache/pip/wheels/0c/75/da/81b64122700ec083d162c374aba1922beb523d542c429ed8ca\n",
            "  Building wheel for fire (setup.py) ... \u001b[?25l\u001b[?25hdone\n",
            "  Created wheel for fire: filename=fire-0.7.0-py3-none-any.whl size=114249 sha256=bc7e73c2135257ae4694c6f2ab905c2efcf6266d17a74134722825ff06644097\n",
            "  Stored in directory: /root/.cache/pip/wheels/46/54/24/1624fd5b8674eb1188623f7e8e17cdf7c0f6c24b609dfb8a89\n",
            "  Building wheel for wget (setup.py) ... \u001b[?25l\u001b[?25hdone\n",
            "  Created wheel for wget: filename=wget-3.2-py3-none-any.whl size=9656 sha256=e36240c1fd00853e92c445e53828c112718ac2defafa3780206a2b80b2e2e03b\n",
            "  Stored in directory: /root/.cache/pip/wheels/40/b3/0f/a40dbd1c6861731779f62cc4babcb234387e11d697df70ee97\n",
            "Successfully built got10k fire wget\n",
            "Installing collected packages: wget, fire, got10k\n",
            "Successfully installed fire-0.7.0 got10k-0.1.3 wget-3.2\n"
          ]
        }
      ]
    },
    {
      "cell_type": "code",
      "execution_count": null,
      "metadata": {
        "colab": {
          "base_uri": "https://localhost:8080/"
        },
        "id": "Ld_Ct8Q6e7G4",
        "outputId": "8594d485-e863-40a7-e65b-7cf0e43a9bc9"
      },
      "outputs": [
        {
          "output_type": "stream",
          "name": "stdout",
          "text": [
            "Epoch 0/200, Step 0/7, Loss: 112.19773864746094\n",
            "Epoch 1/200, Step 0/7, Loss: 85.07567596435547\n",
            "Epoch 2/200, Step 0/7, Loss: 52.0325927734375\n",
            "Epoch 3/200, Step 0/7, Loss: 44.12755584716797\n",
            "Epoch 4/200, Step 0/7, Loss: 44.479774475097656\n",
            "Epoch 5/200, Step 0/7, Loss: 40.937110900878906\n",
            "Epoch 6/200, Step 0/7, Loss: 40.46925354003906\n",
            "Epoch 7/200, Step 0/7, Loss: 38.788211822509766\n",
            "Epoch 8/200, Step 0/7, Loss: 38.504249572753906\n",
            "Epoch 9/200, Step 0/7, Loss: 37.74767303466797\n",
            "Epoch 10/200, Step 0/7, Loss: 35.50270080566406\n",
            "Epoch 11/200, Step 0/7, Loss: 27.174121856689453\n",
            "Epoch 12/200, Step 0/7, Loss: 20.46247100830078\n",
            "Epoch 13/200, Step 0/7, Loss: 17.59248161315918\n",
            "Epoch 14/200, Step 0/7, Loss: 16.46763801574707\n",
            "Epoch 15/200, Step 0/7, Loss: 14.204401016235352\n",
            "Epoch 16/200, Step 0/7, Loss: 14.353475570678711\n",
            "Epoch 17/200, Step 0/7, Loss: 13.383399963378906\n",
            "Epoch 18/200, Step 0/7, Loss: 13.344502449035645\n",
            "Epoch 19/200, Step 0/7, Loss: 12.368545532226562\n",
            "Epoch 20/200, Step 0/7, Loss: 12.992626190185547\n",
            "Epoch 21/200, Step 0/7, Loss: 12.853431701660156\n",
            "Epoch 22/200, Step 0/7, Loss: 11.8140869140625\n",
            "Epoch 23/200, Step 0/7, Loss: 11.589338302612305\n",
            "Epoch 24/200, Step 0/7, Loss: 12.418046951293945\n",
            "Epoch 25/200, Step 0/7, Loss: 10.962678909301758\n",
            "Epoch 26/200, Step 0/7, Loss: 10.41150951385498\n",
            "Epoch 27/200, Step 0/7, Loss: 10.440864562988281\n",
            "Epoch 28/200, Step 0/7, Loss: 10.454105377197266\n",
            "Epoch 29/200, Step 0/7, Loss: 9.784744262695312\n",
            "Epoch 30/200, Step 0/7, Loss: 9.108002662658691\n",
            "Epoch 31/200, Step 0/7, Loss: 8.192211151123047\n",
            "Epoch 32/200, Step 0/7, Loss: 8.796127319335938\n",
            "Epoch 33/200, Step 0/7, Loss: 8.019760131835938\n",
            "Epoch 34/200, Step 0/7, Loss: 8.141046524047852\n",
            "Epoch 35/200, Step 0/7, Loss: 8.110942840576172\n",
            "Epoch 36/200, Step 0/7, Loss: 7.6374688148498535\n",
            "Epoch 37/200, Step 0/7, Loss: 7.834385871887207\n",
            "Epoch 38/200, Step 0/7, Loss: 7.625027656555176\n",
            "Epoch 39/200, Step 0/7, Loss: 7.398641586303711\n",
            "Epoch 40/200, Step 0/7, Loss: 7.542211532592773\n",
            "Epoch 41/200, Step 0/7, Loss: 7.194468975067139\n",
            "Epoch 42/200, Step 0/7, Loss: 7.295029163360596\n",
            "Epoch 43/200, Step 0/7, Loss: 7.591126441955566\n",
            "Epoch 44/200, Step 0/7, Loss: 7.214313507080078\n",
            "Epoch 45/200, Step 0/7, Loss: 7.037633419036865\n",
            "Epoch 46/200, Step 0/7, Loss: 6.769603729248047\n",
            "Epoch 47/200, Step 0/7, Loss: 6.433033466339111\n",
            "Epoch 48/200, Step 0/7, Loss: 6.847671985626221\n",
            "Epoch 49/200, Step 0/7, Loss: 6.834805488586426\n",
            "Epoch 50/200, Step 0/7, Loss: 6.558216094970703\n",
            "Epoch 51/200, Step 0/7, Loss: 7.040389060974121\n",
            "Epoch 52/200, Step 0/7, Loss: 6.5863213539123535\n",
            "Epoch 53/200, Step 0/7, Loss: 6.871201038360596\n",
            "Epoch 54/200, Step 0/7, Loss: 6.572088241577148\n",
            "Epoch 55/200, Step 0/7, Loss: 6.5271453857421875\n",
            "Epoch 56/200, Step 0/7, Loss: 6.359855651855469\n",
            "Epoch 57/200, Step 0/7, Loss: 6.234569072723389\n",
            "Epoch 58/200, Step 0/7, Loss: 6.125147819519043\n",
            "Epoch 59/200, Step 0/7, Loss: 6.059917449951172\n",
            "Epoch 60/200, Step 0/7, Loss: 6.613974094390869\n",
            "Epoch 61/200, Step 0/7, Loss: 6.101880073547363\n",
            "Epoch 62/200, Step 0/7, Loss: 6.203512191772461\n",
            "Epoch 63/200, Step 0/7, Loss: 6.310442924499512\n",
            "Epoch 64/200, Step 0/7, Loss: 6.793819904327393\n",
            "Epoch 65/200, Step 0/7, Loss: 5.94536018371582\n",
            "Epoch 66/200, Step 0/7, Loss: 5.626665115356445\n",
            "Epoch 67/200, Step 0/7, Loss: 6.186073303222656\n",
            "Epoch 68/200, Step 0/7, Loss: 6.1826066970825195\n",
            "Epoch 69/200, Step 0/7, Loss: 5.578807830810547\n",
            "Epoch 70/200, Step 0/7, Loss: 5.789997100830078\n",
            "Epoch 71/200, Step 0/7, Loss: 6.338930606842041\n",
            "Epoch 72/200, Step 0/7, Loss: 5.864169120788574\n",
            "Epoch 73/200, Step 0/7, Loss: 5.431014537811279\n",
            "Epoch 74/200, Step 0/7, Loss: 6.215554714202881\n",
            "Epoch 75/200, Step 0/7, Loss: 5.786497116088867\n",
            "Epoch 76/200, Step 0/7, Loss: 5.724557876586914\n",
            "Epoch 77/200, Step 0/7, Loss: 5.496377468109131\n",
            "Epoch 78/200, Step 0/7, Loss: 5.514700412750244\n",
            "Epoch 79/200, Step 0/7, Loss: 5.770223617553711\n",
            "Epoch 80/200, Step 0/7, Loss: 5.91352653503418\n",
            "Epoch 81/200, Step 0/7, Loss: 5.692062854766846\n",
            "Epoch 82/200, Step 0/7, Loss: 5.646015167236328\n",
            "Epoch 83/200, Step 0/7, Loss: 5.410829544067383\n",
            "Epoch 84/200, Step 0/7, Loss: 5.902016639709473\n",
            "Epoch 85/200, Step 0/7, Loss: 5.373333930969238\n",
            "Epoch 86/200, Step 0/7, Loss: 5.500219345092773\n",
            "Epoch 87/200, Step 0/7, Loss: 5.937735080718994\n",
            "Epoch 88/200, Step 0/7, Loss: 5.429366111755371\n",
            "Epoch 89/200, Step 0/7, Loss: 5.666715621948242\n",
            "Epoch 90/200, Step 0/7, Loss: 5.480380058288574\n",
            "Epoch 91/200, Step 0/7, Loss: 5.736979007720947\n",
            "Epoch 92/200, Step 0/7, Loss: 6.378800392150879\n",
            "Epoch 93/200, Step 0/7, Loss: 5.196308612823486\n",
            "Epoch 94/200, Step 0/7, Loss: 5.444296360015869\n",
            "Epoch 95/200, Step 0/7, Loss: 5.3871307373046875\n",
            "Epoch 96/200, Step 0/7, Loss: 5.22629451751709\n",
            "Epoch 97/200, Step 0/7, Loss: 5.4278411865234375\n",
            "Epoch 98/200, Step 0/7, Loss: 5.4689226150512695\n",
            "Epoch 99/200, Step 0/7, Loss: 5.382975101470947\n",
            "Epoch 100/200, Step 0/7, Loss: 5.339165687561035\n",
            "Epoch 101/200, Step 0/7, Loss: 5.0384111404418945\n",
            "Epoch 102/200, Step 0/7, Loss: 5.442675590515137\n",
            "Epoch 103/200, Step 0/7, Loss: 5.639064788818359\n",
            "Epoch 104/200, Step 0/7, Loss: 5.427818298339844\n",
            "Epoch 105/200, Step 0/7, Loss: 4.974586486816406\n",
            "Epoch 106/200, Step 0/7, Loss: 5.121665954589844\n",
            "Epoch 107/200, Step 0/7, Loss: 5.172728538513184\n",
            "Epoch 108/200, Step 0/7, Loss: 5.126338481903076\n",
            "Epoch 109/200, Step 0/7, Loss: 5.474987030029297\n",
            "Epoch 110/200, Step 0/7, Loss: 5.315219879150391\n",
            "Epoch 111/200, Step 0/7, Loss: 5.193439483642578\n",
            "Epoch 112/200, Step 0/7, Loss: 5.224042892456055\n",
            "Epoch 113/200, Step 0/7, Loss: 5.740234375\n",
            "Epoch 114/200, Step 0/7, Loss: 5.297236442565918\n",
            "Epoch 115/200, Step 0/7, Loss: 5.449997901916504\n",
            "Epoch 116/200, Step 0/7, Loss: 5.449209213256836\n",
            "Epoch 117/200, Step 0/7, Loss: 5.350543022155762\n",
            "Epoch 118/200, Step 0/7, Loss: 4.945367813110352\n",
            "Epoch 119/200, Step 0/7, Loss: 5.185104846954346\n",
            "Epoch 120/200, Step 0/7, Loss: 4.9262590408325195\n",
            "Epoch 121/200, Step 0/7, Loss: 4.8278045654296875\n",
            "Epoch 122/200, Step 0/7, Loss: 5.035616874694824\n",
            "Epoch 123/200, Step 0/7, Loss: 5.138522148132324\n",
            "Epoch 124/200, Step 0/7, Loss: 5.173149108886719\n",
            "Epoch 125/200, Step 0/7, Loss: 5.671727180480957\n",
            "Epoch 126/200, Step 0/7, Loss: 5.08543062210083\n",
            "Epoch 127/200, Step 0/7, Loss: 4.872801303863525\n",
            "Epoch 128/200, Step 0/7, Loss: 4.805230617523193\n",
            "Epoch 129/200, Step 0/7, Loss: 4.925154209136963\n",
            "Epoch 130/200, Step 0/7, Loss: 4.87569522857666\n",
            "Epoch 131/200, Step 0/7, Loss: 4.999476909637451\n",
            "Epoch 132/200, Step 0/7, Loss: 4.727869033813477\n",
            "Epoch 133/200, Step 0/7, Loss: 5.121526718139648\n",
            "Epoch 134/200, Step 0/7, Loss: 4.761587142944336\n",
            "Epoch 135/200, Step 0/7, Loss: 4.729026794433594\n",
            "Epoch 136/200, Step 0/7, Loss: 4.728276252746582\n",
            "Epoch 137/200, Step 0/7, Loss: 4.543715476989746\n",
            "Epoch 138/200, Step 0/7, Loss: 5.206287384033203\n",
            "Epoch 139/200, Step 0/7, Loss: 4.702406883239746\n",
            "Epoch 140/200, Step 0/7, Loss: 5.15694522857666\n",
            "Epoch 141/200, Step 0/7, Loss: 5.008742332458496\n",
            "Epoch 142/200, Step 0/7, Loss: 4.941039562225342\n",
            "Epoch 143/200, Step 0/7, Loss: 4.8437113761901855\n",
            "Epoch 144/200, Step 0/7, Loss: 5.10715389251709\n",
            "Epoch 145/200, Step 0/7, Loss: 4.709481239318848\n",
            "Epoch 146/200, Step 0/7, Loss: 4.687117099761963\n",
            "Epoch 147/200, Step 0/7, Loss: 4.844601631164551\n",
            "Epoch 148/200, Step 0/7, Loss: 4.533634662628174\n",
            "Epoch 149/200, Step 0/7, Loss: 4.601034164428711\n",
            "Epoch 150/200, Step 0/7, Loss: 5.232063293457031\n",
            "Epoch 151/200, Step 0/7, Loss: 5.181196212768555\n",
            "Epoch 152/200, Step 0/7, Loss: 4.392482757568359\n",
            "Epoch 153/200, Step 0/7, Loss: 5.217087745666504\n",
            "Epoch 154/200, Step 0/7, Loss: 4.672748565673828\n",
            "Epoch 155/200, Step 0/7, Loss: 5.222613334655762\n",
            "Epoch 156/200, Step 0/7, Loss: 4.950613021850586\n",
            "Epoch 157/200, Step 0/7, Loss: 4.598077774047852\n",
            "Epoch 158/200, Step 0/7, Loss: 4.7606730461120605\n",
            "Epoch 159/200, Step 0/7, Loss: 4.934364318847656\n",
            "Epoch 160/200, Step 0/7, Loss: 4.752867221832275\n",
            "Epoch 161/200, Step 0/7, Loss: 4.870349884033203\n",
            "Epoch 162/200, Step 0/7, Loss: 4.276480674743652\n",
            "Epoch 163/200, Step 0/7, Loss: 4.499444961547852\n",
            "Epoch 164/200, Step 0/7, Loss: 4.27003288269043\n",
            "Epoch 165/200, Step 0/7, Loss: 4.597332954406738\n",
            "Epoch 166/200, Step 0/7, Loss: 4.869454383850098\n",
            "Epoch 167/200, Step 0/7, Loss: 4.4813361167907715\n",
            "Epoch 168/200, Step 0/7, Loss: 4.495851516723633\n",
            "Epoch 169/200, Step 0/7, Loss: 4.856425762176514\n",
            "Epoch 170/200, Step 0/7, Loss: 4.546795845031738\n",
            "Epoch 171/200, Step 0/7, Loss: 4.661171913146973\n",
            "Epoch 172/200, Step 0/7, Loss: 4.507907867431641\n",
            "Epoch 173/200, Step 0/7, Loss: 5.027647972106934\n",
            "Epoch 174/200, Step 0/7, Loss: 4.572967529296875\n",
            "Epoch 175/200, Step 0/7, Loss: 4.4944071769714355\n",
            "Epoch 176/200, Step 0/7, Loss: 4.592782497406006\n",
            "Epoch 177/200, Step 0/7, Loss: 4.945881366729736\n",
            "Epoch 178/200, Step 0/7, Loss: 4.622463226318359\n",
            "Epoch 179/200, Step 0/7, Loss: 4.507572174072266\n",
            "Epoch 180/200, Step 0/7, Loss: 4.493587493896484\n",
            "Epoch 181/200, Step 0/7, Loss: 4.615025043487549\n",
            "Epoch 182/200, Step 0/7, Loss: 4.41804838180542\n",
            "Epoch 183/200, Step 0/7, Loss: 4.651270866394043\n",
            "Epoch 184/200, Step 0/7, Loss: 5.0055060386657715\n",
            "Epoch 185/200, Step 0/7, Loss: 4.712759017944336\n",
            "Epoch 186/200, Step 0/7, Loss: 4.791226387023926\n",
            "Epoch 187/200, Step 0/7, Loss: 4.873053073883057\n",
            "Epoch 188/200, Step 0/7, Loss: 4.447635173797607\n"
          ]
        }
      ],
      "source": [
        "import torch.optim as optim\n",
        "from goturn import TrackerGOTURN\n",
        "\n",
        "from torch.utils.data import DataLoader\n",
        "\n",
        "# Create dataset instance\n",
        "# dataset = GOTURN_Dataset(\"../data/OTB/swan/img\", transform=None)\n",
        "\n",
        "# Create DataLoader\n",
        "train_loader = DataLoader(combined_dataset, batch_size=256, shuffle=True, num_workers=0)\n",
        "\n",
        "device = torch.device(\"cuda\" if torch.cuda.is_available() else \"cpu\")\n",
        "num_epochs = 200\n",
        "\n",
        "# Assuming you've already set up the TrackerGOTURN class\n",
        "tracker = TrackerGOTURN(net_path=\"./pytorch_goturn.pth\")\n",
        "\n",
        "# Set model to training mode\n",
        "tracker.net.train()\n",
        "\n",
        "# Define the optimizer and loss function\n",
        "optimizer = optim.Adam(tracker.net.parameters(), lr=1e-4)  # You can adjust the learning rate\n",
        "criterion = torch.nn.SmoothL1Loss()\n",
        "\n",
        "# Example training loop\n",
        "for epoch in range(num_epochs):\n",
        "    for i, (prev_frame, curr_frame, bbox) in enumerate(train_loader):\n",
        "        prev_frame, curr_frame, bbox = prev_frame.to(device), curr_frame.to(device), bbox.to(device)\n",
        "\n",
        "        # Zero gradients\n",
        "        optimizer.zero_grad()\n",
        "\n",
        "        # Forward pass\n",
        "        pred_bbox = tracker.net(prev_frame, curr_frame)\n",
        "\n",
        "        # Calculate loss\n",
        "        loss = criterion(pred_bbox, bbox)\n",
        "\n",
        "        # Backpropagate\n",
        "        loss.backward()\n",
        "\n",
        "        # Update weights\n",
        "        optimizer.step()\n",
        "\n",
        "        if i % 10 == 0:  # Print every 10 steps\n",
        "            print(f'Epoch {epoch}/{num_epochs}, Step {i}/{len(train_loader)}, Loss: {loss.item()}')\n",
        "\n",
        "# Save the fine-tuned model\n",
        "torch.save(tracker.net.state_dict(), \"fine_tuned_goturn.pth\")\n"
      ]
    },
    {
      "cell_type": "code",
      "execution_count": 9,
      "metadata": {
        "colab": {
          "base_uri": "https://localhost:8080/"
        },
        "id": "ivFHG8UXe7G4",
        "outputId": "e3ef07de-5187-455f-fb1d-a4834deaa4e3"
      },
      "outputs": [
        {
          "output_type": "stream",
          "name": "stdout",
          "text": [
            "dict_keys(['state_dict'])\n"
          ]
        }
      ],
      "source": [
        "\n",
        "# Load the fine-tuned checkpoint\n",
        "checkpoint = torch.load('./fine_tuned_goturn.pth', map_location=torch.device('cuda'))\n",
        "\n",
        "# Create a new dictionary to mimic the original model's structure\n",
        "new_checkpoint = {\n",
        "    'state_dict': checkpoint\n",
        "}\n",
        "\n",
        "# Save the new checkpoint\n",
        "torch.save(new_checkpoint, './fine_tuned_goturn_reformatted.pth')\n",
        "\n",
        "# Check the keys in the new checkpoint to ensure it's in the right format\n",
        "new_checkpoint = torch.load('./fine_tuned_goturn_reformatted.pth', map_location=torch.device('cuda'))\n",
        "print(new_checkpoint.keys())"
      ]
    },
    {
      "cell_type": "markdown",
      "metadata": {
        "id": "ZKrGEbnie7G5"
      },
      "source": [
        "# Run the test"
      ]
    },
    {
      "cell_type": "markdown",
      "metadata": {
        "id": "qJ-BhsJoe7G5"
      },
      "source": [
        "groundtruth bounding boxes are in **red**."
      ]
    },
    {
      "cell_type": "code",
      "execution_count": 10,
      "metadata": {
        "colab": {
          "base_uri": "https://localhost:8080/"
        },
        "id": "MziWg992e7G5",
        "outputId": "5b049daf-740d-492e-868e-9cb5723fe8d9"
      },
      "outputs": [
        {
          "output_type": "stream",
          "name": "stdout",
          "text": [
            "[ 67.  38. 253. 190.]\n",
            "fps: 64.626\n",
            "[[np.float64(3509.38427734375), np.float64(1321.7454833984375), 427, 240], [np.float64(1992.9263801574707), np.float64(789.6633367538452), 427, 240], [np.float64(1235.5177459716797), np.float64(523.8263411521912), 427, 240], [np.float64(856.3608055114746), np.float64(390.7927157878876), 427, 240], [np.float64(666.782585144043), np.float64(324.3583434820175), 427, 240], [np.float64(572.5590934753418), np.float64(291.33278197050095), 427, 240], [np.float64(525.1347923278809), np.float64(274.5204997956753), 427, 240], [np.float64(501.31900215148926), np.float64(266.18996791541576), 427, 240], [np.float64(489.0510835647583), np.float64(261.7318676933646), 427, 240], [np.float64(483.1129994392395), np.float64(259.830137681216), 427, 240], [np.float64(479.3017580509186), np.float64(258.46980688534677), 427, 240], [np.float64(477.7220650911331), np.float64(258.04771624784917), 427, 240], [np.float64(476.95131880044937), np.float64(257.8437290727161), 427, 240], [np.float64(475.92677786946297), np.float64(257.55805495078675), 427, 240], [np.float64(475.69630290567875), np.float64(257.38153602031525), 427, 240], [np.float64(476.12226796895266), np.float64(257.3483369417372), 427, 240], [np.float64(475.71160662546754), np.float64(257.1493014130683), 427, 240], [np.float64(475.52880364842713), np.float64(257.1870688812778), 427, 240], [np.float64(476.0718626091257), np.float64(257.363849610927), 427, 240], [np.float64(477.0760504757054), np.float64(257.6964454506051), 427, 240], [np.float64(477.52767596417107), np.float64(257.80104541054425), 427, 240], [np.float64(476.7727166899713), np.float64(257.4682993852648), 427, 240], [np.float64(476.4448510055081), np.float64(257.3723437767999), 427, 240], [np.float64(476.9528446616896), np.float64(257.4545205822476), 427, 240], [np.float64(477.55721380423347), np.float64(257.46403855040114), 427, 240], [np.float64(477.09109545802494), np.float64(257.21423038817665), 427, 240], [np.float64(477.43334031629274), np.float64(257.7480968682827), 427, 240], [np.float64(478.06008827948426), np.float64(257.77546139800853), 427, 240], [np.float64(478.5731158865683), np.float64(258.0362540296927), 427, 240], [np.float64(477.81227472490036), np.float64(257.66696410438493), 427, 240], [np.float64(477.1886271390615), np.float64(257.51131942401867), 427, 240], [np.float64(476.8799447493403), np.float64(257.4334808713721), 427, 240], [np.float64(476.7099480369016), np.float64(257.37387258442874), 427, 240], [np.float64(476.62909053456406), np.float64(257.34450522379393), 427, 240], [np.float64(476.5684858495574), np.float64(257.3086204097485), 427, 240], [np.float64(476.558359440892), np.float64(257.31187913645385), 427, 240], [np.float64(476.99389186339033), np.float64(257.40384148473083), 427, 240], [np.float64(477.1209140560848), np.float64(257.32481216845184), 427, 240], [np.float64(476.81439761031777), np.float64(257.2987738820775), 427, 240], [np.float64(477.13761796409443), np.float64(257.4177356348864), 427, 240], [np.float64(477.18550247875135), np.float64(257.3302343182977), 427, 240], [np.float64(476.87378380163153), np.float64(257.3423203375546), 427, 240], [np.float64(476.7481082551859), np.float64(257.3783468676909), 427, 240], [np.float64(476.6529828843068), np.float64(257.3469454980544), 427, 240], [np.float64(476.63418301625006), np.float64(257.3492749798622), 427, 240], [np.float64(476.93953375360843), np.float64(257.490036659853), 427, 240], [np.float64(477.5018065191382), np.float64(257.58556398422337), 427, 240], [np.float64(477.8308192599353), np.float64(257.53076283470205), 427, 240], [np.float64(477.99532563033387), np.float64(257.50336225994135), 427, 240]]\n",
            "[[67.0, 38.0, 186.0, 152.0], [68.0, 36.0, 186.0, 153.0], [70.0, 36.0, 185.0, 152.0], [71.0, 35.0, 186.0, 153.0], [73.0, 35.0, 185.0, 152.0], [74.0, 34.0, 186.0, 153.0], [77.0, 34.0, 185.0, 153.0], [78.0, 34.0, 185.0, 153.0], [79.0, 34.0, 186.0, 153.0], [79.0, 34.0, 186.0, 153.0], [80.0, 35.0, 186.0, 152.0], [82.0, 36.0, 185.0, 152.0], [82.0, 37.0, 186.0, 152.0], [83.0, 38.0, 185.0, 153.0], [83.0, 40.0, 186.0, 153.0], [83.0, 43.0, 186.0, 153.0], [83.0, 46.0, 186.0, 153.0], [82.0, 49.0, 186.0, 153.0], [81.0, 51.0, 186.0, 152.0], [82.0, 52.0, 184.0, 153.0], [79.0, 53.0, 186.0, 152.0], [79.0, 53.0, 185.0, 152.0], [77.0, 53.0, 186.0, 152.0], [78.0, 53.0, 183.0, 152.0], [76.0, 53.0, 184.0, 152.0], [74.0, 53.0, 185.0, 153.0], [74.0, 53.0, 184.0, 153.0], [73.0, 52.0, 184.0, 154.0], [73.0, 52.0, 183.0, 154.0], [74.0, 51.0, 182.0, 154.0], [72.0, 51.0, 183.0, 154.0], [72.0, 51.0, 183.0, 154.0], [73.0, 51.0, 182.0, 154.0], [73.0, 51.0, 182.0, 154.0], [74.0, 51.0, 181.0, 154.0], [73.0, 51.0, 181.0, 154.0], [73.0, 51.0, 181.0, 154.0], [74.0, 51.0, 180.0, 154.0], [75.0, 52.0, 179.0, 153.0], [75.0, 51.0, 180.0, 153.0], [75.0, 51.0, 180.0, 153.0], [75.0, 51.0, 180.0, 153.0], [76.0, 50.0, 180.0, 153.0], [76.0, 50.0, 180.0, 152.0], [77.0, 49.0, 179.0, 152.0], [78.0, 48.0, 178.0, 153.0], [77.0, 47.0, 179.0, 153.0], [78.0, 46.0, 178.0, 153.0], [77.0, 45.0, 178.0, 153.0]]\n",
            "[(1968.0, 780.5), (1209.5, 514.5), (831.0, 381.5), (641.5, 315.0), (546.5, 282.0), (499.5, 265.5), (476.0, 257.0), (464.0, 253.0), (458.0, 250.5), (455.0, 249.5), (453.0, 249.0), (452.0, 249.0), (451.5, 248.5), (451.0, 248.5), (451.0, 248.5), (451.5, 248.5), (451.0, 248.5), (451.0, 248.5), (451.5, 248.5), (452.0, 248.5), (452.0, 248.5), (451.5, 248.5), (451.5, 248.5), (451.5, 248.5), (452.0, 248.5), (452.0, 248.5), (452.0, 248.5), (452.5, 248.5), (452.5, 249.0), (452.0, 248.5), (452.0, 248.5), (451.5, 248.5), (451.5, 248.5), (451.5, 248.5), (451.5, 248.5), (451.5, 248.5), (451.5, 248.5), (452.0, 248.5), (451.5, 248.5), (452.0, 248.5), (452.0, 248.5), (451.5, 248.5), (451.5, 248.5), (451.5, 248.5), (451.5, 248.5), (451.5, 248.5), (452.0, 248.5), (452.0, 248.5), (452.0, 248.5)]\n"
          ]
        }
      ],
      "source": [
        "from test_goturn import run_tracking\n",
        "# Specify the arguments\n",
        "data_directory = '../data/OTB/swan'\n",
        "model_weights = './pytorch_goturn.pth'\n",
        "model_weights = './fine_tuned_goturn_reformatted.pth'\n",
        "\n",
        "predicted_boxes, ground_truth_boxes, centroids = run_tracking(data_directory, model_weights)\n",
        "\n",
        "print(predicted_boxes)\n",
        "print(ground_truth_boxes)\n",
        "print(centroids)"
      ]
    },
    {
      "cell_type": "code",
      "execution_count": 11,
      "metadata": {
        "colab": {
          "base_uri": "https://localhost:8080/",
          "height": 601
        },
        "id": "annhxjGje7G5",
        "outputId": "c322521b-cb48-4d13-a80b-f259d885ff18"
      },
      "outputs": [
        {
          "output_type": "stream",
          "name": "stdout",
          "text": [
            "[1926.9370124630436, 1122.9230828511809, 720.779092371581, 519.0553920344148, 417.61465491526997, 366.85317226378186, 339.7123783437984, 326.2644632809402, 318.4273857569415, 315.29351404683223, 312.1602152741441, 309.4757664179863, 307.91638475404324, 306.35967423928366, 305.039341724965, 304.2059335384502, 302.49132218957953, 302.1671722738921, 302.9331609447866, 302.7936591145858, 304.4343114696502, 304.4343114696502, 305.8144862494254, 306.2747949146322, 308.11726663723346, 309.30769469898416, 309.7692689728921, 311.3462702522707, 312.0, 311.2703808588283, 312.65396207308805, 312.1926488564393, 311.7314549415891, 311.7314549415891, 311.2703808588283, 312.1926488564393, 312.1926488564393, 312.1926488564393, 311.0771608459869, 311.46428366668306, 311.46428366668306, 311.0036173423068, 310.474234035612, 310.6710478947145, 310.60787176116446, 310.34859432580004, 311.6652852019294, 311.61033358988595, 312.92970456637704]\n"
          ]
        },
        {
          "output_type": "display_data",
          "data": {
            "text/plain": [
              "<Figure size 1000x600 with 1 Axes>"
            ],
            "image/png": "[encoded data removed]"
          },
          "metadata": {}
        }
      ],
      "source": [
        "import matplotlib.pyplot as plt\n",
        "\n",
        "# Calculate the ground truth centroids\n",
        "groundtruth_centroids = []\n",
        "for i in range(len(ground_truth_boxes)):\n",
        "    groundtruth_centroid = (ground_truth_boxes[i][0] + ground_truth_boxes[i][2] / 2,\n",
        "                            ground_truth_boxes[i][1] + ground_truth_boxes[i][3] / 2)\n",
        "    groundtruth_centroids.append(groundtruth_centroid)\n",
        "\n",
        "# Calculate the L2 distance between corresponding centroids\n",
        "def L2(a, b):\n",
        "    # Calculate the Euclidean distance between two points a and b\n",
        "    return ((a[0] - b[0])**2 + (a[1] - b[1])**2)**0.5\n",
        "\n",
        "# Compute L2 distances for each frame\n",
        "l2_distances = [L2(centroids[i], groundtruth_centroids[i]) for i in range(len(centroids))]\n",
        "print(l2_distances)\n",
        "# Plot the L2 distances over time (frame number)\n",
        "plt.figure(figsize=(10, 6))\n",
        "plt.plot(range(len(l2_distances)), l2_distances, label=\"L2 Distance\")\n",
        "plt.xlabel(\"Frame Number\")\n",
        "plt.ylabel(\"L2 Distance\")\n",
        "plt.title(\"L2 Distance between Predicted and Ground Truth Centroids Over Time\")\n",
        "plt.grid(True)\n",
        "plt.legend()\n",
        "plt.show()"
      ]
    }
  ],
  "metadata": {
    "kernelspec": {
      "display_name": "Python 3",
      "name": "python3"
    },
    "language_info": {
      "codemirror_mode": {
        "name": "ipython",
        "version": 3
      },
      "file_extension": ".py",
      "mimetype": "text/x-python",
      "name": "python",
      "nbconvert_exporter": "python",
      "pygments_lexer": "ipython3",
      "version": "3.13.1"
    },
    "colab": {
      "provenance": [],
      "gpuType": "T4"
    },
    "accelerator": "GPU"
  },
  "nbformat": 4,
  "nbformat_minor": 0
}